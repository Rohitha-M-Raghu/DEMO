{
  "nbformat": 4,
  "nbformat_minor": 0,
  "metadata": {
    "colab": {
      "name": "CLUSTERING.ipynb",
      "provenance": [],
      "authorship_tag": "ABX9TyMiGkyOa5TkzvN+F2VnNSZJ",
      "include_colab_link": true
    },
    "kernelspec": {
      "name": "python3",
      "display_name": "Python 3"
    },
    "language_info": {
      "name": "python"
    }
  },
  "cells": [
    {
      "cell_type": "markdown",
      "metadata": {
        "id": "view-in-github",
        "colab_type": "text"
      },
      "source": [
        "<a href=\"https://colab.research.google.com/github/Rohitha-M-Raghu/DEMO/blob/main/CLUSTERING.ipynb\" target=\"_parent\"><img src=\"https://colab.research.google.com/assets/colab-badge.svg\" alt=\"Open In Colab\"/></a>"
      ]
    },
    {
      "cell_type": "markdown",
      "source": [
        "CLUSTERING PROGRAM IMPLEMENTED USING K-MEANS ALGORITHM\n",
        "1. Random placing k centroids, one for each cluster\n",
        "2. Calculate the distance of each point from each centroid\n",
        "3. Assign each data point(object to its closest centroid, \n",
        "   creating cluster.\n",
        "4. Recalculate the position of the k centroids\n",
        "5. Repeat the steps 2-4, until the centroids no longer\n",
        "   moves"
      ],
      "metadata": {
        "id": "v826d9iB9S_y"
      }
    },
    {
      "cell_type": "code",
      "execution_count": 1,
      "metadata": {
        "colab": {
          "base_uri": "https://localhost:8080/"
        },
        "id": "UbN8IYB49QDR",
        "outputId": "a1a89889-c133-483d-d9be-fa592a23e103"
      },
      "outputs": [
        {
          "output_type": "execute_result",
          "data": {
            "text/plain": [
              "array([1, 1, 1, 0, 0, 0], dtype=int32)"
            ]
          },
          "metadata": {},
          "execution_count": 1
        }
      ],
      "source": [
        "from sklearn.cluster import KMeans\n",
        "import numpy as np\n",
        "\n",
        "x = np.array([[1, 2], [1, 4], [1, 0],[10, 2], [10, 4], [10, 0]])\n",
        "kmeans = KMeans(n_clusters = 2, random_state = 0).fit(x)\n",
        "\n",
        "kmeans.labels_\n",
        "\n"
      ]
    },
    {
      "cell_type": "markdown",
      "source": [
        "PREDICTION"
      ],
      "metadata": {
        "id": "0rVSIHGa-Xkt"
      }
    },
    {
      "cell_type": "code",
      "source": [
        "kmeans.predict([[0, 0], [12, 3]])\n"
      ],
      "metadata": {
        "colab": {
          "base_uri": "https://localhost:8080/"
        },
        "id": "2e1zFjUU-ZnY",
        "outputId": "0a96295e-0796-41c8-9bf1-2fa966c9ead0"
      },
      "execution_count": 2,
      "outputs": [
        {
          "output_type": "execute_result",
          "data": {
            "text/plain": [
              "array([1, 0], dtype=int32)"
            ]
          },
          "metadata": {},
          "execution_count": 2
        }
      ]
    },
    {
      "cell_type": "markdown",
      "source": [
        "CLUSTERING CENTRES"
      ],
      "metadata": {
        "id": "_8ir1i9h-75U"
      }
    },
    {
      "cell_type": "code",
      "source": [
        "kmeans.cluster_centers_"
      ],
      "metadata": {
        "colab": {
          "base_uri": "https://localhost:8080/"
        },
        "id": "S6Vv4FWC--y0",
        "outputId": "a77b87f5-ac8b-426a-b19b-f5700e853fc9"
      },
      "execution_count": 3,
      "outputs": [
        {
          "output_type": "execute_result",
          "data": {
            "text/plain": [
              "array([[10.,  2.],\n",
              "       [ 1.,  2.]])"
            ]
          },
          "metadata": {},
          "execution_count": 3
        }
      ]
    }
  ]
}