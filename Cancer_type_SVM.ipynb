{
  "nbformat": 4,
  "nbformat_minor": 0,
  "metadata": {
    "colab": {
      "name": "Cancer type SVM.ipynb",
      "provenance": [],
      "authorship_tag": "ABX9TyMdng66hVRz2hgVQl+cr7eI",
      "include_colab_link": true
    },
    "kernelspec": {
      "name": "python3",
      "display_name": "Python 3"
    },
    "language_info": {
      "name": "python"
    }
  },
  "cells": [
    {
      "cell_type": "markdown",
      "metadata": {
        "id": "view-in-github",
        "colab_type": "text"
      },
      "source": [
        "<a href=\"https://colab.research.google.com/github/Rohitha-M-Raghu/DEMO/blob/main/Cancer_type_SVM.ipynb\" target=\"_parent\"><img src=\"https://colab.research.google.com/assets/colab-badge.svg\" alt=\"Open In Colab\"/></a>"
      ]
    },
    {
      "cell_type": "code",
      "execution_count": 3,
      "metadata": {
        "colab": {
          "base_uri": "https://localhost:8080/"
        },
        "id": "sJBeQNDM5zrO",
        "outputId": "4a94b261-e7c9-4f22-e1fb-315d4fe7a24a"
      },
      "outputs": [
        {
          "output_type": "stream",
          "name": "stdout",
          "text": [
            "[1]\n"
          ]
        }
      ],
      "source": [
        "import numpy as np\n",
        "\n",
        "x = np.array([[-1, -1], [-2, -1], [1, 1], [2, 1]])\n",
        "\n",
        "y = np.array([1, 1, 2, 2])\n",
        "\n",
        "from sklearn.svm import SVC\n",
        "\n",
        "clf = SVC()\n",
        "clf.fit(x, y)\n",
        "\n",
        "\n",
        "print(clf.predict([[-0.8, -1]]))"
      ]
    }
  ]
}