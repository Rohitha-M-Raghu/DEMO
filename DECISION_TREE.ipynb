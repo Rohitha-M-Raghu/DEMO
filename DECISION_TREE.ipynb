{
  "nbformat": 4,
  "nbformat_minor": 0,
  "metadata": {
    "colab": {
      "name": "DECISION TREE.ipynb",
      "provenance": [],
      "authorship_tag": "ABX9TyPiEPUYaVN30z7Ba5jmghdU",
      "include_colab_link": true
    },
    "kernelspec": {
      "name": "python3",
      "display_name": "Python 3"
    },
    "language_info": {
      "name": "python"
    }
  },
  "cells": [
    {
      "cell_type": "markdown",
      "metadata": {
        "id": "view-in-github",
        "colab_type": "text"
      },
      "source": [
        "<a href=\"https://colab.research.google.com/github/Rohitha-M-Raghu/DEMO/blob/main/DECISION_TREE.ipynb\" target=\"_parent\"><img src=\"https://colab.research.google.com/assets/colab-badge.svg\" alt=\"Open In Colab\"/></a>"
      ]
    },
    {
      "cell_type": "code",
      "execution_count": 1,
      "metadata": {
        "colab": {
          "base_uri": "https://localhost:8080/"
        },
        "id": "qOCzhNoD2r-y",
        "outputId": "07b5e5d1-65b7-445c-9c29-f8b02d5ffd13"
      },
      "outputs": [
        {
          "output_type": "execute_result",
          "data": {
            "text/plain": [
              "array([1])"
            ]
          },
          "metadata": {},
          "execution_count": 1
        }
      ],
      "source": [
        "from sklearn import tree\n",
        "\n",
        "x = [[0, 0], [1, 1]]\n",
        "\n",
        "y = [0, 1]\n",
        "\n",
        "clf = tree.DecisionTreeClassifier()\n",
        "clf = clf.fit(x,y)\n",
        "\n",
        "clf.predict([[2. , 2.]])\n"
      ]
    }
  ]
}