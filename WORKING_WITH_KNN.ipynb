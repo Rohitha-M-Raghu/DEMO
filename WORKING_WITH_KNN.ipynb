{
  "nbformat": 4,
  "nbformat_minor": 0,
  "metadata": {
    "colab": {
      "name": "WORKING WITH KNN.ipynb",
      "provenance": [],
      "authorship_tag": "ABX9TyOX9ak263mmhNfIV5cn5nfO",
      "include_colab_link": true
    },
    "kernelspec": {
      "name": "python3",
      "display_name": "Python 3"
    },
    "language_info": {
      "name": "python"
    }
  },
  "cells": [
    {
      "cell_type": "markdown",
      "metadata": {
        "id": "view-in-github",
        "colab_type": "text"
      },
      "source": [
        "<a href=\"https://colab.research.google.com/github/Rohitha-M-Raghu/DEMO/blob/main/WORKING_WITH_KNN.ipynb\" target=\"_parent\"><img src=\"https://colab.research.google.com/assets/colab-badge.svg\" alt=\"Open In Colab\"/></a>"
      ]
    },
    {
      "cell_type": "code",
      "execution_count": 2,
      "metadata": {
        "colab": {
          "base_uri": "https://localhost:8080/"
        },
        "id": "E7H-QViUt3IZ",
        "outputId": "12b13713-c8b6-4a0c-c76f-bbe07ca36c71"
      },
      "outputs": [
        {
          "output_type": "stream",
          "name": "stdout",
          "text": [
            "[0 0 0 1]\n"
          ]
        }
      ],
      "source": [
        "x = [[0], [1], [2], [3]]\n",
        "y = [0, 0, 1, 1]\n",
        "\n",
        "from sklearn.neighbors import KNeighborsClassifier\n",
        "neigh = KNeighborsClassifier(n_neighbors = 3)\n",
        "neigh.fit(x,y)\n",
        "\n",
        "print(neigh.predict([[0.9], [1.1], [1.5], [3.3]]))\n"
      ]
    }
  ]
}